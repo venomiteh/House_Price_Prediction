{
  "cells": [
    {
      "cell_type": "markdown",
      "metadata": {
        "id": "view-in-github",
        "colab_type": "text"
      },
      "source": [
        "<a href=\"https://colab.research.google.com/github/venomiteh/House_Price_Prediction/blob/main/HousePricingPrediction.ipynb\" target=\"_parent\"><img src=\"https://colab.research.google.com/assets/colab-badge.svg\" alt=\"Open In Colab\"/></a>"
      ]
    },
    {
      "cell_type": "code",
      "execution_count": null,
      "metadata": {
        "colab": {
          "base_uri": "https://localhost:8080/",
          "height": 245
        },
        "id": "H60aDzuyE9Gv",
        "outputId": "b0d6036a-f67e-4ecf-d3e6-a1138def9448"
      },
      "outputs": [
        {
          "output_type": "stream",
          "name": "stdout",
          "text": [
            "Info:\n",
            "\n"
          ]
        },
        {
          "output_type": "error",
          "ename": "NameError",
          "evalue": "name 'tratin_test_split' is not defined",
          "traceback": [
            "\u001b[0;31m---------------------------------------------------------------------------\u001b[0m",
            "\u001b[0;31mNameError\u001b[0m                                 Traceback (most recent call last)",
            "\u001b[0;32m<ipython-input-2-8b41771638b8>\u001b[0m in \u001b[0;36m<cell line: 0>\u001b[0;34m()\u001b[0m\n\u001b[1;32m     47\u001b[0m \u001b[0;34m\u001b[0m\u001b[0m\n\u001b[1;32m     48\u001b[0m \u001b[0;31m# Step 7) Split into Training and Testing Data\u001b[0m\u001b[0;34m\u001b[0m\u001b[0;34m\u001b[0m\u001b[0m\n\u001b[0;32m---> 49\u001b[0;31m \u001b[0mX_train\u001b[0m\u001b[0;34m,\u001b[0m \u001b[0mX_test\u001b[0m\u001b[0;34m,\u001b[0m \u001b[0my_train\u001b[0m\u001b[0;34m,\u001b[0m \u001b[0my_test\u001b[0m \u001b[0;34m=\u001b[0m \u001b[0mtratin_test_split\u001b[0m\u001b[0;34m(\u001b[0m\u001b[0mX_tensor\u001b[0m\u001b[0;34m,\u001b[0m \u001b[0mY_tensor\u001b[0m\u001b[0;34m,\u001b[0m \u001b[0mtest_size\u001b[0m\u001b[0;34m=\u001b[0m\u001b[0;36m0.2\u001b[0m\u001b[0;34m,\u001b[0m \u001b[0mrandom_state\u001b[0m\u001b[0;34m=\u001b[0m\u001b[0;36m42\u001b[0m\u001b[0;34m)\u001b[0m\u001b[0;34m\u001b[0m\u001b[0;34m\u001b[0m\u001b[0m\n\u001b[0m\u001b[1;32m     50\u001b[0m \u001b[0;34m\u001b[0m\u001b[0m\n\u001b[1;32m     51\u001b[0m \u001b[0;31m# Step 8) Create the Linear Regression model\u001b[0m\u001b[0;34m\u001b[0m\u001b[0;34m\u001b[0m\u001b[0m\n",
            "\u001b[0;31mNameError\u001b[0m: name 'tratin_test_split' is not defined"
          ]
        }
      ],
      "source": [
        "import torch as tr\n",
        "import numpy as np\n",
        "import pandas as pn\n",
        "import torch.nn as nn\n",
        "from sklearn.preprocessing import StandardScaler\n",
        "from sklearn.model_selection import train_test_split\n",
        "import joblib\n",
        "\n",
        "# Step 1) Load the data\n",
        "file = pn.read_csv('/content/USA Housing Dataset.csv')\n",
        "#print(file.head())\n",
        "\n",
        "print(\"Info:\\n\")\n",
        "#print(file.info())\n",
        "#print(\"Describe:\\n\")\n",
        "#print(file.describe())\n",
        "#print(\"Null counter:\\n\")\n",
        "#print(file.isnull().sum())\n",
        "#print(\"After\\n\")\n",
        "\n",
        "\n",
        "\n",
        "# Step 2) Filter out unnecessary columns (like street, city, etc.)\n",
        "file = file.drop(columns=[\"street\", \"city\", \"yr_renovated\", \"country\", \"date\", \"sqft_above\", \"sqft_basement\", \"view\",\"statezip\"])\n",
        "#print(file.columns)\n",
        "#print(file.head())\n",
        "\n",
        "# Step 3) Handle missing values (if any)\n",
        "file = file.dropna()\n",
        "\n",
        "# Step 4) Separate Features and Target Variable\n",
        "x = file.drop(columns=[\"price\"])  # Features\n",
        "y = file[\"price\"].values.reshape(-1, 1)  # Target\n",
        "\n",
        "# Step 5) Normalize Features\n",
        "# Make sure to only normalize numeric columns, not categorical ones like 'statezip'\n",
        "scaler_X = StandardScaler()\n",
        "scaler_y = StandardScaler()\n",
        "\n",
        "# Normalize numeric columns (after dropping non-numeric columns)\n",
        "x = scaler_X.fit_transform(x.select_dtypes(include=[np.number]))  # Only normalize numeric columns\n",
        "y = scaler_y.fit_transform(y)  # Normalize target too\n",
        "\n",
        "# Step 6) Convert to PyTorch tensors\n",
        "X_tensor = tr.tensor(x, dtype=tr.float32)\n",
        "Y_tensor = tr.tensor(y, dtype=tr.float32)\n",
        "\n",
        "# Step 7) Split into Training and Testing Data\n",
        "X_train, X_test, y_train, y_test = tratin_test_split(X_tensor, Y_tensor, test_size=0.2, random_state=42)\n",
        "\n",
        "# Step 8) Create the Linear Regression model\n",
        "class LinearRegression(nn.Module):\n",
        "    def __init__(self, input_size):\n",
        "        super(LinearRegression, self).__init__()\n",
        "        self.fc = nn.Linear(input_size, 1)  # Linear layer\n",
        "\n",
        "    def forward(self, x):\n",
        "        return self.fc(x)\n",
        "\n",
        "# Step 9) Create the model\n",
        "model = LinearRegression(X_train.shape[1])\n",
        "\n",
        "# Step 10) Define Loss and Optimizer\n",
        "criterion = nn.MSELoss()  # Mean Squared Error Loss for regression\n",
        "optimizer = tr.optim.SGD(model.parameters(), lr=0.1)  # Stochastic Gradient Descent\n",
        "\n",
        "# Step 11) Train the model\n",
        "epochs = 100\n",
        "for epoch in range(epochs):\n",
        "    model.train()\n",
        "    optimizer.zero_grad()\n",
        "\n",
        "    y_pred = model(X_train)  # Forward pass\n",
        "    loss = criterion(y_pred, y_train)  # Compute loss\n",
        "    loss.backward()  # BackWard Pass\n",
        "    optimizer.step()  # Update weights\n",
        "\n",
        "    if (epoch + 1) % 50 == 0:\n",
        "        print(f'Epoch {epoch+1}/{epochs}, Loss: {loss.item():.4f}')\n",
        "\n",
        "# Step 12) Evaluate the model\n",
        "model.eval()\n",
        "y_pred_test = model(X_test)\n",
        "# Evaluate in normalized space\n",
        "test_loss = criterion(y_pred_test, y_test)\n",
        "print(f\"Test Loss (Normalized): {test_loss.item():.4f}\")\n",
        "\n",
        "# Convert to original scale for readable output\n",
        "y_pred_test_orig = scaler_y.inverse_transform(y_pred_test.detach().numpy())\n",
        "y_test_orig = scaler_y.inverse_transform(y_test.detach().numpy())\n",
        "\n",
        "# Show some sample predictions\n",
        "for i in range(5):\n",
        "    print(f\"Actual: ${y_test_orig[i][0]:,.2f} - Predicted: ${y_pred_test_orig[i][0]:,.2f}\")\n",
        "\n",
        "#this saves the model to linear_regression_model.pth\n",
        "joblib.dump(scaler_X, 'scaler_X.pkl')\n",
        "joblib.dump(scaler_y, 'scaler_y.pkl')\n",
        "tr.save(model.state_dict(), 'linear_regression_model.pth')\n"
      ]
    },
    {
      "cell_type": "code",
      "source": [],
      "metadata": {
        "id": "Miskb3KMZ6bi"
      },
      "execution_count": null,
      "outputs": []
    },
    {
      "cell_type": "code",
      "source": [
        "import torch as tr\n",
        "import numpy as np\n",
        "import torch.nn as nn\n",
        "import pandas as pd\n",
        "import joblib  # To load the saved scalers\n",
        "from sklearn.preprocessing import StandardScaler\n",
        "\n",
        "# Define the same model structure as during training\n",
        "class LinearRegression(nn.Module):\n",
        "    def __init__(self, input_size):\n",
        "        super(LinearRegression, self).__init__()\n",
        "        self.fc = nn.Linear(input_size, 1)\n",
        "\n",
        "    def forward(self, x):\n",
        "        return self.fc(x)\n",
        "\n",
        "# Step 1: Load the trained model\n",
        "model = LinearRegression(8)  # 8 input features\n",
        "model.load_state_dict(tr.load('/content/linear_regression_model.pth'))\n",
        "model.eval()\n",
        "\n",
        "# Step 2: Load the saved scalers (from training)\n",
        "scaler_X = joblib.load('/content/scaler_X.pkl')\n",
        "scaler_y = joblib.load('/content/scaler_y.pkl')\n",
        "\n",
        "# Step 3: Get user input\n",
        "def get_user_input():\n",
        "    print(\"Enter the following details about the house:\")\n",
        "\n",
        "    bedrooms = float(input(\"Number of bedrooms: \"))\n",
        "    bathrooms = float(input(\"Number of bathrooms: \"))\n",
        "    sqft_living = float(input(\"Square footage of the house (sqft_living): \"))\n",
        "    sqft_lot = float(input(\"Lot size in square feet (sqft_lot): \"))\n",
        "    floors = float(input(\"Number of floors: \"))\n",
        "    waterfront = float(input(\"Waterfront (1 if yes, 0 if no): \"))\n",
        "    condition = float(input(\"Condition rating (1-5): \"))\n",
        "    yr_built = float(input(\"Year built: \"))\n",
        "\n",
        "    return pd.DataFrame({\n",
        "        'bedrooms': [bedrooms],\n",
        "        'bathrooms': [bathrooms],\n",
        "        'sqft_living': [sqft_living],\n",
        "        'sqft_lot': [sqft_lot],\n",
        "        'floors': [floors],\n",
        "        'waterfront': [waterfront],\n",
        "        'condition': [condition],\n",
        "        'yr_built': [yr_built]\n",
        "    })\n",
        "\n",
        "# Step 4: Predict price\n",
        "def predict_price():\n",
        "    user_input_df = get_user_input()\n",
        "\n",
        "    # Scale the input using the same scaler from training\n",
        "    scaled_input = scaler_X.transform(user_input_df)\n",
        "    input_tensor = tr.tensor(scaled_input, dtype=tr.float32)\n",
        "\n",
        "    # Predict using the model\n",
        "    with tr.no_grad():\n",
        "        prediction_scaled = model(input_tensor).item()\n",
        "\n",
        "    # Inverse transform to get the actual dollar price\n",
        "    prediction_actual = scaler_y.inverse_transform([[prediction_scaled]])[0][0]\n",
        "\n",
        "    print(f\"\\nPredicted house price: ${prediction_actual:,.2f}\")\n",
        "\n",
        "# Run the prediction\n",
        "predict_price()\n"
      ],
      "metadata": {
        "colab": {
          "base_uri": "https://localhost:8080/"
        },
        "id": "OvhQHb-TEyy7",
        "outputId": "9b8213b6-c88a-4aa1-d579-fb336ff704a3"
      },
      "execution_count": null,
      "outputs": [
        {
          "output_type": "stream",
          "name": "stdout",
          "text": [
            "Enter the following details about the house:\n",
            "Number of bedrooms: 3\n",
            "Number of bathrooms: 3\n",
            "Square footage of the house (sqft_living): 1700\n",
            "Lot size in square feet (sqft_lot): 2000\n",
            "Number of floors: 2\n",
            "Waterfront (1 if yes, 0 if no): 0\n",
            "Condition rating (1-5): 4\n",
            "Year built: 2008\n",
            "\n",
            "Predicted house price: $455,814.95\n"
          ]
        }
      ]
    }
  ],
  "metadata": {
    "colab": {
      "provenance": [],
      "authorship_tag": "ABX9TyPa274h5bCODsgJnhEM2zrr",
      "include_colab_link": true
    },
    "kernelspec": {
      "display_name": "Python 3",
      "name": "python3"
    },
    "language_info": {
      "name": "python"
    }
  },
  "nbformat": 4,
  "nbformat_minor": 0
}